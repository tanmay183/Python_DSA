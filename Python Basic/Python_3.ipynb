{
 "cells": [
  {
   "cell_type": "markdown",
   "id": "6b3c425c",
   "metadata": {},
   "source": [
    "# Python OOPs Concepts"
   ]
  },
  {
   "cell_type": "raw",
   "id": "8339c685",
   "metadata": {},
   "source": [
    "A class in Python is a user-defined template for creating objects. It bundles data and functions together, making it easier to manage and use them. When we create a new class, we define a new type of object. We can then create multiple instances of this object type.\n",
    "\n",
    "Classes are created using class keyword. Attributes are variables defined inside the class and represent the properties of the class. Attributes can be accessed using the dot . operator (e.g., MyClass.my_attribute)."
   ]
  },
  {
   "cell_type": "code",
   "execution_count": 1,
   "id": "c2421d4b",
   "metadata": {},
   "outputs": [],
   "source": [
    "# define a class\n",
    "class Dog:\n",
    "    sound = \"bark\"  # class attribute\n"
   ]
  },
  {
   "cell_type": "raw",
   "id": "adcec684",
   "metadata": {},
   "source": [
    "Create Object\n",
    "An Object is an instance of a Class. It represents a specific implementation of the class and holds its own data.\n",
    "\n",
    "Now, let’s create an object from Dog class."
   ]
  },
  {
   "cell_type": "code",
   "execution_count": 3,
   "id": "cb3c60e3",
   "metadata": {},
   "outputs": [
    {
     "name": "stdout",
     "output_type": "stream",
     "text": [
      "bark\n"
     ]
    }
   ],
   "source": [
    "class Dog:\n",
    "    sound = \"bark\" \n",
    "\n",
    "# Create an object from the class\n",
    "dog1 = Dog()\n",
    "\n",
    "# Access the class attribute\n",
    "print(dog1.sound)\n",
    "\n",
    "\n",
    "#sound attribute is a class attribute. It is shared across all instances of Dog class, \n",
    "#so can be directly accessed through instance dog1.\n"
   ]
  },
  {
   "cell_type": "code",
   "execution_count": 4,
   "id": "b2b7173c",
   "metadata": {},
   "outputs": [],
   "source": [
    "#Using __init__() Function\n",
    "#In Python, class has __init__() function. It automatically initializes object attributes when an object is created.\n",
    "\n",
    "class Dog:\n",
    "    species = \"Canine\"  # Class attribute\n",
    "\n",
    "    def __init__(self, name, age):\n",
    "        self.name = name  # Instance attribute\n",
    "        self.age = age  # Instance attribute\n",
    "\n",
    "#Explanation:\n",
    "\n",
    "#class Dog: Defines a class named Dog.\n",
    "#species: A class attribute shared by all instances of the class.\n",
    "#__init__ method: Initializes the name and age attributes when a new object is created."
   ]
  },
  {
   "cell_type": "code",
   "execution_count": 5,
   "id": "5b198c41",
   "metadata": {},
   "outputs": [
    {
     "name": "stdout",
     "output_type": "stream",
     "text": [
      "Buddy\n",
      "Canine\n"
     ]
    }
   ],
   "source": [
    "class Dog:\n",
    "    species = \"Canine\"  # Class attribute\n",
    "\n",
    "    def __init__(self, name, age):\n",
    "        self.name = name  # Instance attribute\n",
    "        self.age = age  # Instance attribute\n",
    "\n",
    "# Creating an object of the Dog class\n",
    "dog1 = Dog(\"Buddy\", 3)\n",
    "\n",
    "print(dog1.name)  # Output: Buddy\n",
    "print(dog1.species)  # Output: Canine\n"
   ]
  },
  {
   "cell_type": "code",
   "execution_count": 6,
   "id": "698a7bb1",
   "metadata": {},
   "outputs": [
    {
     "name": "stdout",
     "output_type": "stream",
     "text": [
      "Buddy is barking!\n"
     ]
    }
   ],
   "source": [
    "#Self Parameter\n",
    "#self parameter is a reference to the current instance of the class. It allows us to access the attributes and methods \n",
    "#of the object.\n",
    "\n",
    "class Dog:\n",
    "    def __init__(self, name, age):  \n",
    "        self.name = name \n",
    "        self.age = age\n",
    "\n",
    "    def bark(self): \n",
    "        print(f\"{self.name} is barking!\")\n",
    "\n",
    "# Creating an instance of Dog\n",
    "dog1 = Dog(\"Buddy\", 3)\n",
    "dog1.bark() \n",
    "\n",
    "#Explanation:\n",
    "#Inside bark(), self.name accesses the specific dog’s name and prints it.\n",
    "#When we call dog1.bark(), Python automatically passes dog1 as self, allowing access to its attributes."
   ]
  },
  {
   "cell_type": "code",
   "execution_count": 7,
   "id": "52065697",
   "metadata": {},
   "outputs": [
    {
     "name": "stdout",
     "output_type": "stream",
     "text": [
      "Buddy is 3 years old.\n",
      "Charlie is 5 years old.\n"
     ]
    }
   ],
   "source": [
    "#__str__ Method\n",
    "#__str__ method in Python allows us to define a custom string representation of an object. \n",
    "#By default, when we print an object or convert it to a string using str(), \n",
    "#Python uses the default implementation, which returns a string like <__main__.ClassName object at 0x00000123>.\n",
    "\n",
    "\n",
    "class Dog:\n",
    "    def __init__(self, name, age):\n",
    "        self.name = name\n",
    "        self.age = age\n",
    "\n",
    "    def __str__(self):\n",
    "        return f\"{self.name} is {self.age} years old.\"  # Correct: Returning a string\n",
    "      \n",
    "dog1 = Dog(\"Buddy\", 3)\n",
    "dog2 = Dog(\"Charlie\", 5)\n",
    "\n",
    "print(dog1)  \n",
    "print(dog2)  "
   ]
  },
  {
   "cell_type": "raw",
   "id": "86d13a81",
   "metadata": {},
   "source": [
    "Explanation:\n",
    "\n",
    "__str__ Implementation: Defined as a method in the Dog class. Uses the self parameter to access the instance’s attributes (name and age).\n",
    "Readable Output: When print(dog1) is called, Python automatically uses the __str__ method to get a string representation of the object. Without __str__, calling print(dog1) would produce something like <__main__.Dog object at 0x00000123>."
   ]
  },
  {
   "cell_type": "raw",
   "id": "7f91016d",
   "metadata": {},
   "source": [
    "Class and Instance Variables in Python\n",
    "In Python, variables defined in a class can be either class variables or instance variables, and understanding the distinction between them is crucial for object-oriented programming.\n",
    "\n",
    "Class Variables\n",
    "These are the variables that are shared across all instances of a class. It is defined at the class level, outside any methods. All objects of the class share the same value for a class variable unless explicitly overridden in an object.\n",
    "\n",
    "Instance Variables\n",
    "Variables that are unique to each instance (object) of a class. These are defined within __init__ method or other instance methods. Each object maintains its own copy of instance variables, independent of other objects.\n",
    "\n",
    "\n",
    "Explanation:\n",
    "Class Variable (species): Shared by all instances of the class. Changing Dog.species affects all objects, as it’s a property of the class itself.\n",
    "Instance Variables (name, age): Defined in the __init__ method. Unique to each instance (e.g., dog1.name and dog2.name are different).\n",
    "Accessing Variables: Class variables can be accessed via the class name (Dog.species) or an object (dog1.species). Instance variables are accessed via the object (dog1.name).\n",
    "Updating Variables: Changing Dog.species affects all instances. Changing dog1.name only affects dog1 and does not impact dog2.\n"
   ]
  },
  {
   "cell_type": "markdown",
   "id": "ca15a0cc",
   "metadata": {},
   "source": [
    "# Polymorphism in Python"
   ]
  },
  {
   "cell_type": "raw",
   "id": "a184a167",
   "metadata": {},
   "source": [
    "Polymorphism in Python allows different classes to be treated as instances of the same class through a shared interface. This concept enables methods in different classes to have the same name but behave differently based on the class instance.\n",
    "\n",
    "\n",
    "Explanation of Polymorphism Concepts Used\n",
    "\n",
    "Method Overriding (Runtime Polymorphism):\n",
    "\n",
    "The speak() method is defined in the Animal class.\n",
    "The Dog and Cat classes override the speak() method.\n",
    "The function make_animal_speak(animal) accepts different objects and calls speak(), showcasing polymorphism.\n",
    "\n",
    "\n",
    "Method Overloading (Compile-time Polymorphism):\n",
    "Python does not support method overloading natively, but it can be simulated using default arguments.\n",
    "In the Calculator class, add() accepts 2 or 3 parameters, with c defaulting to 0.\n",
    "\n",
    "\n",
    "Operator Overloading:\n",
    "The Vector class overloads the + operator using the __add__ method.\n",
    "Two vector objects can be added using v1 + v2, returning a new Vector object.\n",
    "\n"
   ]
  },
  {
   "cell_type": "code",
   "execution_count": 8,
   "id": "d70d1db0",
   "metadata": {},
   "outputs": [
    {
     "name": "stdout",
     "output_type": "stream",
     "text": [
      "Method Overriding Demonstration:\n",
      "Dog barks\n",
      "Cat meows\n",
      "Animal makes a sound\n",
      "\n",
      "Method Overloading Demonstration:\n",
      "Sum of 2 and 3: 5\n",
      "Sum of 2, 3, and 5: 10\n",
      "\n",
      "Operator Overloading Demonstration:\n",
      "Vector Addition: Vector(6, 8)\n"
     ]
    }
   ],
   "source": [
    "# Demonstration of Polymorphism in Python\n",
    "\n",
    "# 1. Method Overriding (Runtime Polymorphism)\n",
    "class Animal:\n",
    "    def speak(self):\n",
    "        return \"Animal makes a sound\"\n",
    "\n",
    "class Dog(Animal):\n",
    "    def speak(self):\n",
    "        return \"Dog barks\"\n",
    "\n",
    "class Cat(Animal):\n",
    "    def speak(self):\n",
    "        return \"Cat meows\"\n",
    "\n",
    "# Function demonstrating polymorphism\n",
    "def make_animal_speak(animal):\n",
    "    print(animal.speak())\n",
    "\n",
    "# 2. Method Overloading (Achieved using Default Arguments)\n",
    "class Calculator:\n",
    "    def add(self, a, b, c=0):  # Method overloading using default argument\n",
    "        return a + b + c\n",
    "\n",
    "# 3. Operator Overloading\n",
    "class Vector:\n",
    "    def __init__(self, x, y):\n",
    "        self.x = x\n",
    "        self.y = y\n",
    "\n",
    "    def __add__(self, other):\n",
    "        \"\"\"Overloading the + operator\"\"\"\n",
    "        return Vector(self.x + other.x, self.y + other.y)\n",
    "\n",
    "    def __str__(self):\n",
    "        return f\"Vector({self.x}, {self.y})\"\n",
    "\n",
    "# Main execution block\n",
    "if __name__ == \"__main__\":\n",
    "    # Method Overriding Example\n",
    "    print(\"Method Overriding Demonstration:\")\n",
    "    animals = [Dog(), Cat(), Animal()]\n",
    "    for animal in animals:\n",
    "        make_animal_speak(animal)\n",
    "\n",
    "    # Method Overloading Example\n",
    "    print(\"\\nMethod Overloading Demonstration:\")\n",
    "    calc = Calculator()\n",
    "    print(f\"Sum of 2 and 3: {calc.add(2, 3)}\")\n",
    "    print(f\"Sum of 2, 3, and 5: {calc.add(2, 3, 5)}\")\n",
    "\n",
    "    # Operator Overloading Example\n",
    "    print(\"\\nOperator Overloading Demonstration:\")\n",
    "    v1 = Vector(2, 3)\n",
    "    v2 = Vector(4, 5)\n",
    "    v3 = v1 + v2  # Uses __add__ method\n",
    "    print(f\"Vector Addition: {v3}\")\n"
   ]
  },
  {
   "cell_type": "markdown",
   "id": "0da582e3",
   "metadata": {},
   "source": [
    "# Inheritance in Python"
   ]
  },
  {
   "cell_type": "raw",
   "id": "77047642",
   "metadata": {},
   "source": [
    "Inheritance is a fundamental concept in Object-Oriented Programming (OOP) that allows one class (child/derived class) to inherit attributes and methods from another class (parent/base class). This promotes code reusability and reduces redundancy.\n",
    "\n",
    "Types of Inheritance in Python\n",
    "\n",
    "Single Inheritance: One class inherits from another.\n",
    "Multiple Inheritance: A class inherits from multiple parent classes.\n",
    "Multilevel Inheritance: A class inherits from a child class of another parent class.\n",
    "Hierarchical Inheritance: Multiple child classes inherit from the same parent class.\n",
    "Hybrid Inheritance: A combination of multiple inheritance types."
   ]
  },
  {
   "cell_type": "code",
   "execution_count": 9,
   "id": "5ba4ea04",
   "metadata": {},
   "outputs": [
    {
     "name": "stdout",
     "output_type": "stream",
     "text": [
      "Single Inheritance:\n",
      "Buddy barks\n",
      "\n",
      "Multiple Inheritance:\n",
      "Feature 1 from Parent1\n",
      "Feature 2 from Parent2\n",
      "Child class has additional features\n",
      "\n",
      "Multilevel Inheritance:\n",
      "Feature from Grandparent\n",
      "Feature from Parent\n",
      "Feature from Child\n",
      "\n",
      "Hierarchical Inheritance:\n",
      "This is a vehicle - Car has 4 wheels\n",
      "This is a vehicle - Bike has 2 wheels\n",
      "\n",
      "Hybrid Inheritance:\n",
      "Feature from Base class\n",
      "Feature from Derived1\n",
      "Feature from Derived2\n",
      "Hybrid class combining Derived1 and Derived2\n"
     ]
    }
   ],
   "source": [
    "# Demonstration of Inheritance in Python\n",
    "\n",
    "# 1. Single Inheritance.......................\n",
    "class Animal:\n",
    "    def __init__(self, name):\n",
    "        self.name = name\n",
    "\n",
    "    def speak(self):\n",
    "        return \"Animal makes a sound\"\n",
    "\n",
    "class Dog(Animal):  # Dog class inherits from Animal\n",
    "    def speak(self):\n",
    "        return f\"{self.name} barks\"\n",
    "\n",
    "# 2. Multiple Inheritance.......................\n",
    "class Parent1:\n",
    "    def feature1(self):\n",
    "        return \"Feature 1 from Parent1\"\n",
    "\n",
    "class Parent2:\n",
    "    def feature2(self):\n",
    "        return \"Feature 2 from Parent2\"\n",
    "\n",
    "class Child(Parent1, Parent2):  # Inheriting from both Parent1 and Parent2\n",
    "    def child_feature(self):\n",
    "        return \"Child class has additional features\"\n",
    "\n",
    "# 3. Multilevel Inheritance........................\n",
    "class Grandparent:\n",
    "    def grandparent_feature(self):\n",
    "        return \"Feature from Grandparent\"\n",
    "\n",
    "class Parent(Grandparent):  # Inheriting from Grandparent\n",
    "    def parent_feature(self):\n",
    "        return \"Feature from Parent\"\n",
    "\n",
    "class ChildMultilevel(Parent):  # Inheriting from Parent\n",
    "    def child_feature(self):\n",
    "        return \"Feature from Child\"\n",
    "\n",
    "# 4. Hierarchical Inheritance........................\n",
    "class Vehicle:\n",
    "    def type(self):\n",
    "        return \"This is a vehicle\"\n",
    "\n",
    "class Car(Vehicle):  # Car inherits from Vehicle\n",
    "    def wheels(self):\n",
    "        return \"Car has 4 wheels\"\n",
    "\n",
    "class Bike(Vehicle):  # Bike inherits from Vehicle\n",
    "    def wheels(self):\n",
    "        return \"Bike has 2 wheels\"\n",
    "\n",
    "# 5. Hybrid Inheritance (Combining multiple types)........................\n",
    "class Base:\n",
    "    def base_feature(self):\n",
    "        return \"Feature from Base class\"\n",
    "\n",
    "class Derived1(Base):\n",
    "    def derived1_feature(self):\n",
    "        return \"Feature from Derived1\"\n",
    "\n",
    "class Derived2(Base):\n",
    "    def derived2_feature(self):\n",
    "        return \"Feature from Derived2\"\n",
    "\n",
    "class Hybrid(Derived1, Derived2):\n",
    "    def hybrid_feature(self):\n",
    "        return \"Hybrid class combining Derived1 and Derived2\"\n",
    "\n",
    "# Main Execution\n",
    "if __name__ == \"__main__\":\n",
    "    # Single Inheritance\n",
    "    print(\"Single Inheritance:\")\n",
    "    dog = Dog(\"Buddy\")\n",
    "    print(dog.speak())\n",
    "\n",
    "    # Multiple Inheritance\n",
    "    print(\"\\nMultiple Inheritance:\")\n",
    "    child = Child()\n",
    "    print(child.feature1())\n",
    "    print(child.feature2())\n",
    "    print(child.child_feature())\n",
    "\n",
    "    # Multilevel Inheritance\n",
    "    print(\"\\nMultilevel Inheritance:\")\n",
    "    child_multilevel = ChildMultilevel()\n",
    "    print(child_multilevel.grandparent_feature())\n",
    "    print(child_multilevel.parent_feature())\n",
    "    print(child_multilevel.child_feature())\n",
    "\n",
    "    # Hierarchical Inheritance\n",
    "    print(\"\\nHierarchical Inheritance:\")\n",
    "    car = Car()\n",
    "    bike = Bike()\n",
    "    print(car.type(), \"-\", car.wheels())\n",
    "    print(bike.type(), \"-\", bike.wheels())\n",
    "\n",
    "    # Hybrid Inheritance\n",
    "    print(\"\\nHybrid Inheritance:\")\n",
    "    hybrid_obj = Hybrid()\n",
    "    print(hybrid_obj.base_feature())\n",
    "    print(hybrid_obj.derived1_feature())\n",
    "    print(hybrid_obj.derived2_feature())\n",
    "    print(hybrid_obj.hybrid_feature())\n"
   ]
  },
  {
   "cell_type": "markdown",
   "id": "ff8f091b",
   "metadata": {},
   "source": [
    "# Abstraction in Python"
   ]
  },
  {
   "cell_type": "raw",
   "id": "64bc551a",
   "metadata": {},
   "source": [
    "Abstraction is an Object-Oriented Programming (OOP) concept that hides implementation details and only exposes essential features to the user. In Python, abstraction is achieved using the ABC (Abstract Base Class) module.\n",
    "\n",
    "Key Points of Abstraction in Python\n",
    "Abstract Classes: Cannot be instantiated directly.\n",
    "Abstract Methods: Defined in the abstract class but must be implemented by subclasses.\n",
    "Implemented Using ABC Module: The ABC class from abc module is used to create abstract classes."
   ]
  },
  {
   "cell_type": "code",
   "execution_count": 1,
   "id": "562e1d02",
   "metadata": {},
   "outputs": [
    {
     "name": "stdout",
     "output_type": "stream",
     "text": [
      "Abstraction Demonstration:\n",
      "Brand: Toyota\n",
      "Toyota Car is starting with a key\n",
      "Toyota Car is stopping by applying brakes\n",
      "\n",
      "\n",
      "Brand: Honda\n",
      "Honda Bike is starting with a self-start button\n",
      "Honda Bike is stopping by pressing the brake lever\n"
     ]
    }
   ],
   "source": [
    "# Demonstration of Abstraction in Python\n",
    "from abc import ABC, abstractmethod\n",
    "\n",
    "# Abstract Class\n",
    "class Vehicle(ABC):\n",
    "    def __init__(self, brand):\n",
    "        self.brand = brand\n",
    "\n",
    "    @abstractmethod\n",
    "    def start(self):\n",
    "        \"\"\"Abstract method that must be implemented by child classes\"\"\"\n",
    "        pass\n",
    "\n",
    "    @abstractmethod\n",
    "    def stop(self):\n",
    "        pass\n",
    "\n",
    "    def brand_name(self):\n",
    "        \"\"\"Concrete method (Not abstract, available for all child classes)\"\"\"\n",
    "        return f\"Brand: {self.brand}\"\n",
    "\n",
    "# Concrete Class 1 (Inherits from Vehicle)\n",
    "class Car(Vehicle):\n",
    "    def start(self):\n",
    "        return f\"{self.brand} Car is starting with a key\"\n",
    "\n",
    "    def stop(self):\n",
    "        return f\"{self.brand} Car is stopping by applying brakes\"\n",
    "\n",
    "# Concrete Class 2 (Inherits from Vehicle)\n",
    "class Bike(Vehicle):\n",
    "    def start(self):\n",
    "        return f\"{self.brand} Bike is starting with a self-start button\"\n",
    "\n",
    "    def stop(self):\n",
    "        return f\"{self.brand} Bike is stopping by pressing the brake lever\"\n",
    "\n",
    "# Main Execution\n",
    "if __name__ == \"__main__\":\n",
    "    # Uncommenting the below line will give an error since we cannot instantiate an abstract class\n",
    "    # vehicle = Vehicle(\"Generic\")\n",
    "\n",
    "    print(\"Abstraction Demonstration:\")\n",
    "\n",
    "    car = Car(\"Toyota\")\n",
    "    print(car.brand_name())\n",
    "    print(car.start())\n",
    "    print(car.stop())\n",
    "\n",
    "    print(\"\\n\")\n",
    "\n",
    "    bike = Bike(\"Honda\")\n",
    "    print(bike.brand_name())\n",
    "    print(bike.start())\n",
    "    print(bike.stop())\n"
   ]
  },
  {
   "cell_type": "markdown",
   "id": "ba2a230a",
   "metadata": {},
   "source": [
    "# Encapsulation in Python"
   ]
  },
  {
   "cell_type": "raw",
   "id": "8373c5dd",
   "metadata": {},
   "source": [
    "Encapsulation is one of the fundamental principles of Object-Oriented Programming (OOP) that restricts direct access to certain variables and methods, ensuring controlled access to an object's data. This is achieved using access modifiers:\n",
    "\n",
    "Public (public_var): Accessible from anywhere.\n",
    "Protected (_protected_var): Accessible within the class and subclasses.\n",
    "Private (__private_var): Cannot be accessed directly outside the class but can be accessed via getter and setter methods."
   ]
  },
  {
   "cell_type": "code",
   "execution_count": 2,
   "id": "2c69b1f8",
   "metadata": {},
   "outputs": [
    {
     "name": "stdout",
     "output_type": "stream",
     "text": [
      "Encapsulation Demonstration:\n",
      "Alice\n",
      "Savings\n",
      "Alice's balance: $5000\n",
      "Alice's balance: $7000\n",
      "Interest applied successfully!\n",
      "Alice's balance: $7350.0\n"
     ]
    }
   ],
   "source": [
    "# Demonstration of Encapsulation in Python\n",
    "\n",
    "class BankAccount:\n",
    "    def __init__(self, account_holder, balance):\n",
    "        self.account_holder = account_holder  # Public attribute\n",
    "        self._account_type = \"Savings\"  # Protected attribute\n",
    "        self.__balance = balance  # Private attribute\n",
    "\n",
    "    # Public Method\n",
    "    def get_balance(self):\n",
    "        return f\"{self.account_holder}'s balance: ${self.__balance}\"\n",
    "\n",
    "    # Private Method (cannot be accessed directly)\n",
    "    def __apply_interest(self):\n",
    "        self.__balance *= 1.05  # Applying 5% interest\n",
    "\n",
    "    # Public Method to access the private method\n",
    "    def apply_interest_public(self):\n",
    "        self.__apply_interest()\n",
    "        return \"Interest applied successfully!\"\n",
    "\n",
    "    # Getter Method for Private Attribute\n",
    "    def get_private_balance(self):\n",
    "        return self.__balance\n",
    "\n",
    "    # Setter Method for Private Attribute (Controlled Access)\n",
    "    def set_private_balance(self, amount):\n",
    "        if amount >= 0:\n",
    "            self.__balance = amount\n",
    "        else:\n",
    "            raise ValueError(\"Balance cannot be negative!\")\n",
    "\n",
    "# Main Execution\n",
    "if __name__ == \"__main__\":\n",
    "    print(\"Encapsulation Demonstration:\")\n",
    "\n",
    "    # Creating an Object\n",
    "    account = BankAccount(\"Alice\", 5000)\n",
    "\n",
    "    # Accessing Public Attribute\n",
    "    print(account.account_holder)  # Works fine\n",
    "\n",
    "    # Accessing Protected Attribute (Allowed, but should be used carefully)\n",
    "    print(account._account_type)  \n",
    "\n",
    "    # Accessing Private Attribute (Throws AttributeError)\n",
    "    # print(account.__balance)  # Uncommenting this will raise an error\n",
    "\n",
    "    # Accessing Private Attribute using Getter\n",
    "    print(account.get_balance())\n",
    "\n",
    "    # Trying to Modify Private Attribute Directly (Throws Error)\n",
    "    # account.__balance = 10000  # Uncommenting this won't change the real private variable\n",
    "\n",
    "    # Using Setter Method to Modify Private Attribute\n",
    "    account.set_private_balance(7000)\n",
    "    print(account.get_balance())\n",
    "\n",
    "    # Applying Interest using Public Method (Calls Private Method Internally)\n",
    "    print(account.apply_interest_public())\n",
    "    print(account.get_balance())\n"
   ]
  },
  {
   "cell_type": "markdown",
   "id": "1e0ad023",
   "metadata": {},
   "source": [
    "# Exception Handling in Python"
   ]
  },
  {
   "cell_type": "raw",
   "id": "c249d93e",
   "metadata": {},
   "source": [
    "Exception handling is a crucial concept in programming that allows a program to gracefully handle errors instead of crashing unexpectedly. In Python, exceptions occur when an error is encountered during program execution, and they can be handled using try, except, else, and finally blocks.\n",
    "\n",
    "\n",
    "Why Use Exception Handling?\n",
    "Prevents Program Crashes: Instead of stopping execution, Python handles the error and allows the program to continue.\n",
    "Improves Debugging: It helps identify and log errors instead of displaying vague system errors.\n",
    "Ensures Code Reliability: Allows graceful error handling, ensuring better user experience.\n",
    "\n",
    "\n",
    "Types of Python Exceptions\n",
    "Python has several built-in exceptions, such as:\n",
    "\n",
    "ZeroDivisionError: Division by zero.\n",
    "TypeError: Operation on incompatible data types.\n",
    "ValueError: Incorrect value given.\n",
    "IndexError: Accessing an out-of-range index.\n",
    "KeyError: Accessing a non-existent dictionary key.\n",
    "FileNotFoundError: Trying to access a missing file.\n",
    "IOError: Issues with input/output operations.\n",
    "AttributeError: Trying to access an undefined attribute.\n",
    "ImportError: Module import failure."
   ]
  },
  {
   "cell_type": "code",
   "execution_count": 3,
   "id": "874987a7",
   "metadata": {},
   "outputs": [
    {
     "name": "stdout",
     "output_type": "stream",
     "text": [
      "Exception Handling Demonstration:\n",
      "Execution of divide_numbers completed.\n",
      "Error: Division by zero is not allowed!\n",
      "Execution of divide_numbers completed.\n",
      "Error: Invalid input type. Please provide numbers!\n",
      "Execution of divide_numbers completed.\n",
      "Result: 5.0\n",
      "Error: File not found!\n",
      "Enter an integer: 2\n",
      "You entered: 2\n",
      "Execution of input handling completed.\n"
     ]
    }
   ],
   "source": [
    "# Demonstration of Exception Handling in Python\n",
    "\n",
    "def divide_numbers(a, b):\n",
    "    try:\n",
    "        result = a / b\n",
    "        return f\"Result: {result}\"\n",
    "    except ZeroDivisionError:\n",
    "        return \"Error: Division by zero is not allowed!\"\n",
    "    except TypeError:\n",
    "        return \"Error: Invalid input type. Please provide numbers!\"\n",
    "    except Exception as e:  # Generic exception handling\n",
    "        return f\"Unexpected Error: {e}\"\n",
    "    finally:\n",
    "        print(\"Execution of divide_numbers completed.\")\n",
    "\n",
    "def read_file(file_name):\n",
    "    try:\n",
    "        with open(file_name, 'r') as file:\n",
    "            return file.read()\n",
    "    except FileNotFoundError:\n",
    "        return \"Error: File not found!\"\n",
    "    except Exception as e:\n",
    "        return f\"Unexpected Error: {e}\"\n",
    "\n",
    "# Main Execution\n",
    "if __name__ == \"__main__\":\n",
    "    print(\"Exception Handling Demonstration:\")\n",
    "\n",
    "    # Handling ZeroDivisionError\n",
    "    print(divide_numbers(10, 0))\n",
    "\n",
    "    # Handling TypeError\n",
    "    print(divide_numbers(10, \"two\"))\n",
    "\n",
    "    # Handling a Valid Division\n",
    "    print(divide_numbers(10, 2))\n",
    "\n",
    "    # Handling FileNotFoundError\n",
    "    print(read_file(\"non_existent_file.txt\"))\n",
    "\n",
    "    # Demonstrating try-except-else-finally\n",
    "    try:\n",
    "        num = int(input(\"Enter an integer: \"))  # May raise ValueError\n",
    "    except ValueError:\n",
    "        print(\"Error: Invalid input! Please enter an integer.\")\n",
    "    else:\n",
    "        print(f\"You entered: {num}\")\n",
    "    finally:\n",
    "        print(\"Execution of input handling completed.\")\n"
   ]
  },
  {
   "cell_type": "code",
   "execution_count": null,
   "id": "6dc8b5f4",
   "metadata": {},
   "outputs": [],
   "source": []
  }
 ],
 "metadata": {
  "kernelspec": {
   "display_name": "Python 3 (ipykernel)",
   "language": "python",
   "name": "python3"
  },
  "language_info": {
   "codemirror_mode": {
    "name": "ipython",
    "version": 3
   },
   "file_extension": ".py",
   "mimetype": "text/x-python",
   "name": "python",
   "nbconvert_exporter": "python",
   "pygments_lexer": "ipython3",
   "version": "3.9.13"
  }
 },
 "nbformat": 4,
 "nbformat_minor": 5
}
